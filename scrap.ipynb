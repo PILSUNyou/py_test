{
 "cells": [
  {
   "cell_type": "code",
   "execution_count": 18,
   "metadata": {},
   "outputs": [
    {
     "name": "stdout",
     "output_type": "stream",
     "text": [
      "[<a class=\"sister\" href=\"http://example.com/elsie\" id=\"link1\">Elsie</a>, <a class=\"sister\" href=\"http://example.com/lacie\" id=\"link2\">Lacie</a>, <a class=\"sister\" href=\"http://example.com/tillie\" id=\"link3\">Tillie</a>]\n",
      "<a class=\"sister\" href=\"http://example.com/elsie\" id=\"link1\">Elsie</a>\n",
      "<a class=\"sister\" href=\"http://example.com/lacie\" id=\"link2\">Lacie</a>\n",
      "Tillie\n",
      "http://example.com/lacie\n"
     ]
    },
    {
     "data": {
      "text/plain": [
       "'\\n1. 태그 선택\\n2. 후손 선택\\n3. 자식 선택\\n4. class 선택\\n5. id 선택\\n'"
      ]
     },
     "execution_count": 18,
     "metadata": {},
     "output_type": "execute_result"
    }
   ],
   "source": [
    "import requests as req # requests 모듈 => 웹페이지를 요청하고 응답 데이터를 받을 수 있음.\n",
    "from bs4 import BeautifulSoup # BeautifulSoup => HTML 해석기\n",
    "\n",
    "request_headers = {'User-Agent': ('Mozilla/5.0 (Windows NT 10.0;Win64; x64)AppleWebKit/537.36 (KHTML, like Gecko) Chrome/71.0.3578.98Safari/537.36'), }\n",
    "# 특정 사이트에 페이지를 요청. 응답 데이터 반환\n",
    "response = req.get(\"https://www.naver.com/\", headers = request_headers)\n",
    "\n",
    "# print(response.text)\n",
    "\n",
    "html_doc = \"\"\"<html><head><title>The Dormouse's story</title></head>\n",
    "<body>\n",
    "<p class=\"title\"><b>The Dormouse's story</b></p>\n",
    "\n",
    "<p class=\"story\">Once upon a time there were three little sisters; and their names were\n",
    "<a href=\"http://example.com/elsie\" class=\"sister\" id=\"link1\">Elsie</a>,\n",
    "<a href=\"http://example.com/lacie\" class=\"sister\" id=\"link2\">Lacie</a> and\n",
    "<a href=\"http://example.com/tillie\" class=\"sister\" id=\"link3\">Tillie</a>;\n",
    "and they lived at the bottom of a well.</p>\n",
    "\n",
    "<p class=\"story\">...</p>\n",
    "\"\"\"\n",
    "# print(html_doc)\n",
    "\n",
    "# soup을 이용해서 html_doc 문자열을 파싱, 그 내용을 soup 변수로 대입\n",
    "soup = BeautifulSoup(html_doc, 'html.parser') \n",
    "alist = soup.select(\"a\")\n",
    "\n",
    "# 리스트 전체\n",
    "print(alist)\n",
    "\n",
    "# 리스트 인덱스\n",
    "print(alist[0])\n",
    "print(alist[1])\n",
    "\n",
    "# 텍스트\n",
    "print(alist[2].text)\n",
    "\n",
    "# 속성명\n",
    "print(alist[1][\"href\"])\n",
    "\n",
    "# 태그 선택방법\n",
    "\"\"\"\n",
    "1. 태그 선택\n",
    "2. 후손 선택\n",
    "3. 자식 선택\n",
    "4. class 선택\n",
    "5. id 선택\n",
    "\"\"\"\n"
   ]
  },
  {
   "cell_type": "code",
   "execution_count": 27,
   "metadata": {},
   "outputs": [
    {
     "name": "stdout",
     "output_type": "stream",
     "text": [
      "\n",
      "\n",
      "\n",
      "\n",
      "\n",
      "전세계가 반한 김예지 \"머스크와의 식사? 영어 못해서 안돼\"\n",
      "사격 국가대표 김예지. 연합뉴스 2024 파리올림픽 은메달리스트 김예지(32·임실군청)에 대한 관심이 전세계적으로 뜨거운 가운데, 김예지가 일론 머스크가 자신에게 찬사를 보낸 것에 대한 소감을 밝혔다. 김예지는 6일 CBS 라디오 '김현정의 뉴스쇼'에 나와 \"처음에는 그 얘기(일론 머스크가 자신을 언급한 것)를 듣고 안...\n",
      "\n",
      "\n"
     ]
    }
   ],
   "source": [
    "import requests as req # requests 모듈 => 웹페이지를 요청하고 응답 데이터를 받을 수 있음.\n",
    "from bs4 import BeautifulSoup # BeautifulSoup => HTML 해석기\n",
    "\n",
    "\n",
    "response = req.get(\"https://news.naver.com/\")\n",
    "soup = BeautifulSoup(response.text, 'html.parser')\n",
    "\n",
    "title = soup.select(\"._cds_link\")\n",
    "print(title[1].text)"
   ]
  }
 ],
 "metadata": {
  "kernelspec": {
   "display_name": "Python 3",
   "language": "python",
   "name": "python3"
  },
  "language_info": {
   "codemirror_mode": {
    "name": "ipython",
    "version": 3
   },
   "file_extension": ".py",
   "mimetype": "text/x-python",
   "name": "python",
   "nbconvert_exporter": "python",
   "pygments_lexer": "ipython3",
   "version": "3.12.1"
  }
 },
 "nbformat": 4,
 "nbformat_minor": 2
}
